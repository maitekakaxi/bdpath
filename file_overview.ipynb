{
 "cells": [
  {
   "cell_type": "code",
   "execution_count": 1,
   "metadata": {},
   "outputs": [
    {
     "name": "stdout",
     "output_type": "stream",
     "text": [
      "Keys in file: dict_keys(['paths', 'times'])\n",
      "Number of samples: 10\n",
      "First path shape: torch.Size([1, 16])\n",
      "First time shape: torch.Size([1, 16])\n",
      "First path sample: tensor([2973, 2973, 2973, 2973, 2973, 2973, 2973, 2973, 2973, 2973, 2973, 2973,\n",
      "        2973, 2973, 2973, 2973], device='cuda:0')\n",
      "First time sample: tensor([8264, 8264, 8264, 8264, 8264, 8264, 8264, 8264, 8264, 8264, 8264, 8264,\n",
      "        8264, 8264, 8264, 8264], device='cuda:0')\n"
     ]
    }
   ],
   "source": [
    "import pickle\n",
    "import torch\n",
    "\n",
    "# 修改为你的文件路径\n",
    "pkl_path = '/root/Block_Path/bd3lms/generated_path_time.pkl'\n",
    "\n",
    "# 加载 pkl 文件\n",
    "with open(pkl_path, 'rb') as f:\n",
    "    data = pickle.load(f)\n",
    "\n",
    "# 打印 keys（一般为 'paths', 'times'）\n",
    "print(\"Keys in file:\", data.keys())\n",
    "\n",
    "# 获取样本数量\n",
    "print(\"Number of samples:\", len(data['paths']))\n",
    "\n",
    "# 查看第一个样本的形状和类型\n",
    "first_path = data['paths'][0]\n",
    "first_time = data['times'][0]\n",
    "\n",
    "print(\"First path shape:\", first_path.shape if isinstance(first_path, torch.Tensor) else type(first_path))\n",
    "print(\"First time shape:\", first_time.shape if isinstance(first_time, torch.Tensor) else type(first_time))\n",
    "\n",
    "# 示例：打印第一条 path 和 time 序列（前20个 token）\n",
    "print(\"First path sample:\", first_path[0][:20] if isinstance(first_path, torch.Tensor) else first_path[:20])\n",
    "print(\"First time sample:\", first_time[0][:20] if isinstance(first_time, torch.Tensor) else first_time[:20])\n"
   ]
  }
 ],
 "metadata": {
  "kernelspec": {
   "display_name": "Test_Model",
   "language": "python",
   "name": "python3"
  },
  "language_info": {
   "codemirror_mode": {
    "name": "ipython",
    "version": 3
   },
   "file_extension": ".py",
   "mimetype": "text/x-python",
   "name": "python",
   "nbconvert_exporter": "python",
   "pygments_lexer": "ipython3",
   "version": "3.10.15"
  }
 },
 "nbformat": 4,
 "nbformat_minor": 2
}
